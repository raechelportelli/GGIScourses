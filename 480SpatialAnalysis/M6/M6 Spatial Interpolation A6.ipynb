{
 "cells": [
  {
   "cell_type": "markdown",
   "metadata": {},
   "source": [
    "### GEOG 480 A4\n",
    "In this assignment, you are asked to conduct a spatial autocorrelation analysis on the latest COVID 19 data for counties in Illinois.\n",
    "\n",
    "The data (covid_il_county_1017.zip) provided are polygon shapefiles with two columns:\n",
    "1. cases100k: cases per 100k population\n",
    "2. deaths100k: deaths per 100k population\n",
    "\n",
    "Please complete the tasks below and answer the questions:\n",
    "\n",
    "1. Compute and report the global Moran's I for the two COVID statistics \"cases per 100k population\" and \"deaths per 100k population\", respectively. Is there any significant spatial autocorrelation for the two maps? (2pts)\n",
    "\n",
    "2. Conduct local Moran analysis and create the hot-spot/cold-spot maps for both incidence rates. Please write down the names of counties that fall into clusters HH (hot-spot) and LL (cold-spot). (4pts)\n",
    "\n",
    "3. Given your own knowledge about Illinois, why these counties are having relatively high/low COVID cases or deaths, compared to other counties in the state? Please give your own interpretation. You may seek other online resources for reference. Write down your explanation in your Jupyter notebook. (4pts)\n",
    "\n"
   ]
  },
  {
   "cell_type": "code",
   "execution_count": null,
   "metadata": {},
   "outputs": [],
   "source": []
  },
  {
   "cell_type": "code",
   "execution_count": null,
   "metadata": {},
   "outputs": [],
   "source": []
  },
  {
   "cell_type": "code",
   "execution_count": null,
   "metadata": {},
   "outputs": [],
   "source": []
  },
  {
   "cell_type": "code",
   "execution_count": null,
   "metadata": {},
   "outputs": [],
   "source": []
  },
  {
   "cell_type": "code",
   "execution_count": null,
   "metadata": {},
   "outputs": [],
   "source": []
  },
  {
   "cell_type": "code",
   "execution_count": null,
   "metadata": {},
   "outputs": [],
   "source": []
  }
 ],
 "metadata": {
  "kernelspec": {
   "display_name": "Python 3",
   "language": "python",
   "name": "python3"
  },
  "language_info": {
   "codemirror_mode": {
    "name": "ipython",
    "version": 3
   },
   "file_extension": ".py",
   "mimetype": "text/x-python",
   "name": "python",
   "nbconvert_exporter": "python",
   "pygments_lexer": "ipython3",
   "version": "3.7.6"
  }
 },
 "nbformat": 4,
 "nbformat_minor": 4
}
