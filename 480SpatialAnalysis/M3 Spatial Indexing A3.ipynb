{
 "cells": [
  {
   "cell_type": "markdown",
   "metadata": {},
   "source": [
    "### GEOG 480 Assignment 1 Geometric Operations\n",
    "\n",
    "\n",
    "\n",
    "There are 5 tasks that allow you to get familiar with python, cyberGISX, and jupyter notebook.\n",
    "\n",
    "**Q1**: Implement a function that takes two input points and returns the Euclidean distance between these two points. Using the equations from the lecture. (1pts)\n",
    "\n",
    "**Q2**: Calculate the euclidean distance (between `pt_1 = (2, 5)` and `pt_2 = (10, 6)`) using your implemented function and shapely's library. Compare the results. (1pts)\n",
    "\n",
    "\n",
    "**Q3**: Implement a function that takes two input points and returns the Spherical distance between these two points (assuming the input coordinates are latitudes and longitudes in degrees). Report the distance calculated between two locations: `pt_1 = (-33, 151)` and \n",
    "`pt_2 = (40, -88)` (Hint: Using the haversine equation from the lecture).  (2pts)\n",
    "\n",
    "**Q4**: Create two line segments as shapely's Line object, and check whether two line segments are intersected or not using the appropriate shapely function. You need to come up with two situations, 1) two lines are intersecting, and 2) they don't. (2pts)\n",
    "\n",
    "**Q5**: Create a rectangle as a Polygon object using shapely (you need to come up with your own coordinates for the vertices). Create two Point objects in shapely, one inside of the polygon and one outside of the polygon. Using the appropriate shapely function to check whether the situation matches up with your expectation. (2pts)\n",
    "\n"
   ]
  },
  {
   "cell_type": "markdown",
   "metadata": {},
   "source": [
    "#### Q1"
   ]
  },
  {
   "cell_type": "code",
   "execution_count": 5,
   "metadata": {},
   "outputs": [],
   "source": [
    "import math\n",
    "\n",
    "pt_1 = (2, 5)\n",
    "pt_2 = (10, 6)\n",
    "\n",
    "\n",
    "def eu_dist(pt_1, pt_2):\n",
    "    \n",
    "    \"To be implemented\"\n",
    "    \n",
    "    return dist\n",
    "\n"
   ]
  },
  {
   "cell_type": "code",
   "execution_count": null,
   "metadata": {},
   "outputs": [],
   "source": []
  },
  {
   "cell_type": "code",
   "execution_count": null,
   "metadata": {},
   "outputs": [],
   "source": []
  },
  {
   "cell_type": "markdown",
   "metadata": {},
   "source": [
    "#### Q2"
   ]
  },
  {
   "cell_type": "code",
   "execution_count": 6,
   "metadata": {},
   "outputs": [],
   "source": [
    "pt_1 = (-33, 151)\n",
    "pt_2 = (40, -88)\n",
    "\n",
    "from math import radians,sin,cos,asin,acos\n",
    "\n",
    "def sp_dist(pt_1, pt_2):\n",
    "    \n",
    "    #Convert degrees to radians.\n",
    "    pt_1_0_rad = radians(pt_1[0])\n",
    "    pt_1_1_rad = radians(pt_1[1])\n",
    "    pt_2_0_rad = radians(pt_2[0])\n",
    "    pt_2_1_rad = radians(pt_2[1])\n",
    "\n",
    "    \n",
    "    \"To be implemented\"\n",
    "    \n",
    "    \n",
    "    return dist"
   ]
  },
  {
   "cell_type": "code",
   "execution_count": null,
   "metadata": {},
   "outputs": [],
   "source": []
  },
  {
   "cell_type": "markdown",
   "metadata": {},
   "source": [
    "#### Q3"
   ]
  },
  {
   "cell_type": "code",
   "execution_count": null,
   "metadata": {},
   "outputs": [],
   "source": []
  },
  {
   "cell_type": "code",
   "execution_count": null,
   "metadata": {},
   "outputs": [],
   "source": []
  },
  {
   "cell_type": "markdown",
   "metadata": {},
   "source": [
    "#### Q4"
   ]
  },
  {
   "cell_type": "code",
   "execution_count": null,
   "metadata": {},
   "outputs": [],
   "source": []
  },
  {
   "cell_type": "code",
   "execution_count": null,
   "metadata": {},
   "outputs": [],
   "source": []
  },
  {
   "cell_type": "markdown",
   "metadata": {},
   "source": [
    "#### Q5"
   ]
  },
  {
   "cell_type": "code",
   "execution_count": null,
   "metadata": {},
   "outputs": [],
   "source": []
  }
 ],
 "metadata": {
  "kernelspec": {
   "display_name": "Python 3",
   "language": "python",
   "name": "python3"
  },
  "language_info": {
   "codemirror_mode": {
    "name": "ipython",
    "version": 3
   },
   "file_extension": ".py",
   "mimetype": "text/x-python",
   "name": "python",
   "nbconvert_exporter": "python",
   "pygments_lexer": "ipython3",
   "version": "3.7.6"
  }
 },
 "nbformat": 4,
 "nbformat_minor": 4
}
