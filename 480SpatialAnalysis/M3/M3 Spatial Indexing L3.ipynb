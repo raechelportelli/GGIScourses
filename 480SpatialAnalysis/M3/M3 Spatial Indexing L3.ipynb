{
 "cells": [
  {
   "cell_type": "markdown",
   "metadata": {},
   "source": [
    "# Comparing spatial indexing methods with NYC Wi-Fi hotspots data.\n",
    "\n",
    "In this example, we show how to create k-d tree and quadtree from real dataset, then we compare the querying performance among an **ordinary list**, a **k-d tree**, and a **quadtree**.\n",
    "\n",
    "There is a public dataset (https://www.kaggle.com/new-york-city/nyc-public-wifi) containing over 2,500 records of every public WiFi hotspot in New York City as of Aug 2011. The specific task is to find all WiFi hotspots within a certain radius of a certain location.\n",
    "\n",
    "For example, we are interested in searhing all the hotspots within 0.5 mile of the Central Park (40.7812 N, 73.9665 W).\n",
    "\n",
    "We will use the kd-tree code from `scipy.spatial` library. For the quadtree, we will need to use the code posted on Learn. \n",
    "\n",
    "For benchmarking the run time, please use the **%timeit** magic function.\n",
    "\n",
    "\n",
    "Conclusion: We find that using a **quadtree** in this case outperforms the other two data structures.\n"
   ]
  },
  {
   "cell_type": "markdown",
   "metadata": {},
   "source": [
    "#### Step 0: Import libraries"
   ]
  },
  {
   "cell_type": "code",
   "execution_count": 16,
   "metadata": {},
   "outputs": [],
   "source": [
    "from scipy import spatial\n",
    "import numpy as np\n",
    "import math\n",
    "import pandas as pd\n",
    "import geopandas as gpd"
   ]
  },
  {
   "cell_type": "markdown",
   "metadata": {},
   "source": [
    "#### Step 1.1: Import the WiFi dataset as a pandas DataFrame\n",
    "#### Step 1.2: Convert it to a geopandas GeoDataFrame by using the longitude and latitude columns as the geometries.\n",
    "#### Step 1.3: Specifcy the coordinate system as WGS84 (EPSG:4326), then convert to Web Mercator (EPSG:3395), so the unit of the coordinate changes from degrees to meters.\n"
   ]
  },
  {
   "cell_type": "code",
   "execution_count": 2,
   "metadata": {},
   "outputs": [],
   "source": [
    "df = pd.read_csv(\"nyc-wi-fi-hotspot-locations.csv\")\n",
    "\n",
    "gdf = gpd.GeoDataFrame(df, crs=\"EPSG:4326\", geometry=\n",
    "                    gpd.points_from_xy(x=df.Longitude, y=df.Latitude)).to_crs(\"EPSG:3395\")"
   ]
  },
  {
   "cell_type": "markdown",
   "metadata": {},
   "source": [
    "#### Simply plot it, to check out the spatial distribution"
   ]
  },
  {
   "cell_type": "code",
   "execution_count": 3,
   "metadata": {},
   "outputs": [
    {
     "data": {
      "text/plain": [
       "<AxesSubplot:>"
      ]
     },
     "execution_count": 3,
     "metadata": {},
     "output_type": "execute_result"
    },
    {
     "data": {
      "image/png": "[encoded data removed]",
      "text/plain": [
       "<Figure size 432x288 with 1 Axes>"
      ]
     },
     "metadata": {
      "needs_background": "light"
     },
     "output_type": "display_data"
    }
   ],
   "source": [
    "gdf.plot()"
   ]
  },
  {
   "cell_type": "markdown",
   "metadata": {},
   "source": [
    "#### Step 2.1: Use the pyproj library to project the coordinates of the central park to Web Mercator.\n",
    "#### Step 2.2: Specipy the searching radius to be 0.5 mile."
   ]
  },
  {
   "cell_type": "code",
   "execution_count": 4,
   "metadata": {},
   "outputs": [],
   "source": [
    "from pyproj import Transformer\n",
    "transformer = Transformer.from_crs(\"epsg:4326\", \"epsg:3395\")\n",
    "central_park = transformer.transform(40.7812, -73.9665)\n",
    "\n",
    "search_radius = 0.5*1000*1.61 #1 mile"
   ]
  },
  {
   "cell_type": "markdown",
   "metadata": {},
   "source": [
    "#### Step 3: Retrive the coordinates in the Wifi hotstops GeoDataFrame and convert them to a numpy array. "
   ]
  },
  {
   "cell_type": "code",
   "execution_count": 5,
   "metadata": {},
   "outputs": [],
   "source": [
    "coords = np.array(list(zip(gdf.geometry.x,gdf.geometry.y)))"
   ]
  },
  {
   "cell_type": "markdown",
   "metadata": {},
   "source": [
    "#### Step 4: Build a k-d tree using `spatial.KDTree()` and coordinates above.\n",
    "#### Step 4.1 : Perform a circular search by using `tree.query_ball_point()` with the central park location and search radius specified above."
   ]
  },
  {
   "cell_type": "code",
   "execution_count": 6,
   "metadata": {},
   "outputs": [],
   "source": [
    "tree = spatial.KDTree(coords)\n",
    "rslt_index_kd_tree = tree.query_ball_point(central_park, search_radius)"
   ]
  },
  {
   "cell_type": "markdown",
   "metadata": {},
   "source": [
    "#### `tree.query_ball_point()` returns the indices of all WiFi hotspots within 0.5mi of the location."
   ]
  },
  {
   "cell_type": "code",
   "execution_count": 7,
   "metadata": {},
   "outputs": [
    {
     "data": {
      "text/plain": [
       "[1651, 2397, 1602, 1604]"
      ]
     },
     "execution_count": 7,
     "metadata": {},
     "output_type": "execute_result"
    }
   ],
   "source": [
    "rslt_index_kd_tree"
   ]
  },
  {
   "cell_type": "markdown",
   "metadata": {},
   "source": [
    "#### Plug-in the indices in the GeoDataFrame to find detailed attributes of each nearby hotspot. There are in total 4 available public WiFi hotspots"
   ]
  },
  {
   "cell_type": "code",
   "execution_count": 8,
   "metadata": {},
   "outputs": [
    {
     "data": {
      "text/html": [
       "<div>\n",
       "<style scoped>\n",
       "    .dataframe tbody tr th:only-of-type {\n",
       "        vertical-align: middle;\n",
       "    }\n",
       "\n",
       "    .dataframe tbody tr th {\n",
       "        vertical-align: top;\n",
       "    }\n",
       "\n",
       "    .dataframe thead th {\n",
       "        text-align: right;\n",
       "    }\n",
       "</style>\n",
       "<table border=\"1\" class=\"dataframe\">\n",
       "  <thead>\n",
       "    <tr style=\"text-align: right;\">\n",
       "      <th></th>\n",
       "      <th>OBJECTID</th>\n",
       "      <th>Borough</th>\n",
       "      <th>Type</th>\n",
       "      <th>Provider</th>\n",
       "      <th>Name</th>\n",
       "      <th>Location</th>\n",
       "      <th>Latitude</th>\n",
       "      <th>Longitude</th>\n",
       "      <th>X</th>\n",
       "      <th>Y</th>\n",
       "      <th>...</th>\n",
       "      <th>CounDist</th>\n",
       "      <th>Postcode</th>\n",
       "      <th>BoroCD</th>\n",
       "      <th>CT2010</th>\n",
       "      <th>BCTCB2010</th>\n",
       "      <th>BIN</th>\n",
       "      <th>BBL</th>\n",
       "      <th>DOITT_ID</th>\n",
       "      <th>Location (Lat, Long)</th>\n",
       "      <th>geometry</th>\n",
       "    </tr>\n",
       "  </thead>\n",
       "  <tbody>\n",
       "    <tr>\n",
       "      <th>1651</th>\n",
       "      <td>7642</td>\n",
       "      <td>MN</td>\n",
       "      <td>Free</td>\n",
       "      <td>LinkNYC - Citybridge</td>\n",
       "      <td>mn-08-121049</td>\n",
       "      <td>36 EAST 84 STREET</td>\n",
       "      <td>40.779454</td>\n",
       "      <td>-73.959681</td>\n",
       "      <td>995416.391697</td>\n",
       "      <td>223255.452161</td>\n",
       "      <td>...</td>\n",
       "      <td>4.0</td>\n",
       "      <td>10028</td>\n",
       "      <td>108.0</td>\n",
       "      <td>142.0</td>\n",
       "      <td>1014200.0</td>\n",
       "      <td>1046787.0</td>\n",
       "      <td>1.014950e+09</td>\n",
       "      <td>3920</td>\n",
       "      <td>{'longitude': '-73.959681', 'human_address': '...</td>\n",
       "      <td>POINT (-8233154.028 4951950.863)</td>\n",
       "    </tr>\n",
       "    <tr>\n",
       "      <th>2397</th>\n",
       "      <td>7875</td>\n",
       "      <td>MN</td>\n",
       "      <td>Free</td>\n",
       "      <td>LinkNYC - Citybridge</td>\n",
       "      <td>mn-08-121051</td>\n",
       "      <td>40 EAST 83 STREET</td>\n",
       "      <td>40.778795</td>\n",
       "      <td>-73.960116</td>\n",
       "      <td>995296.090101</td>\n",
       "      <td>223015.240699</td>\n",
       "      <td>...</td>\n",
       "      <td>4.0</td>\n",
       "      <td>10028</td>\n",
       "      <td>108.0</td>\n",
       "      <td>142.0</td>\n",
       "      <td>1014200.0</td>\n",
       "      <td>1046768.0</td>\n",
       "      <td>1.014940e+09</td>\n",
       "      <td>4153</td>\n",
       "      <td>{'longitude': '-73.960116', 'human_address': '...</td>\n",
       "      <td>POINT (-8233202.452 4951854.358)</td>\n",
       "    </tr>\n",
       "    <tr>\n",
       "      <th>1602</th>\n",
       "      <td>2140</td>\n",
       "      <td>MN</td>\n",
       "      <td>Free</td>\n",
       "      <td>Transit Wireless</td>\n",
       "      <td>81st Street - Museum of Natural History - B, C</td>\n",
       "      <td>81st Street - Museum of Natural History</td>\n",
       "      <td>40.781433</td>\n",
       "      <td>-73.972143</td>\n",
       "      <td>991964.776881</td>\n",
       "      <td>223975.194160</td>\n",
       "      <td>...</td>\n",
       "      <td>6.0</td>\n",
       "      <td>83</td>\n",
       "      <td>164.0</td>\n",
       "      <td>143.0</td>\n",
       "      <td>1014300.0</td>\n",
       "      <td>0.0</td>\n",
       "      <td>0.000000e+00</td>\n",
       "      <td>1543</td>\n",
       "      <td>{'longitude': '-73.972143', 'human_address': '...</td>\n",
       "      <td>POINT (-8234541.292 4952240.678)</td>\n",
       "    </tr>\n",
       "    <tr>\n",
       "      <th>1604</th>\n",
       "      <td>2142</td>\n",
       "      <td>MN</td>\n",
       "      <td>Free</td>\n",
       "      <td>Transit Wireless</td>\n",
       "      <td>86th Street - Central Park West - B, C</td>\n",
       "      <td>86th Street - Central Park West</td>\n",
       "      <td>40.785868</td>\n",
       "      <td>-73.968916</td>\n",
       "      <td>992857.895830</td>\n",
       "      <td>225591.316256</td>\n",
       "      <td>...</td>\n",
       "      <td>6.0</td>\n",
       "      <td>83</td>\n",
       "      <td>164.0</td>\n",
       "      <td>143.0</td>\n",
       "      <td>1014300.0</td>\n",
       "      <td>0.0</td>\n",
       "      <td>0.000000e+00</td>\n",
       "      <td>1545</td>\n",
       "      <td>{'longitude': '-73.968916', 'human_address': '...</td>\n",
       "      <td>POINT (-8234182.064 4952890.194)</td>\n",
       "    </tr>\n",
       "  </tbody>\n",
       "</table>\n",
       "<p>4 rows × 30 columns</p>\n",
       "</div>"
      ],
      "text/plain": [
       "      OBJECTID Borough  Type              Provider  \\\n",
       "1651      7642      MN  Free  LinkNYC - Citybridge   \n",
       "2397      7875      MN  Free  LinkNYC - Citybridge   \n",
       "1602      2140      MN  Free      Transit Wireless   \n",
       "1604      2142      MN  Free      Transit Wireless   \n",
       "\n",
       "                                                Name  \\\n",
       "1651                                    mn-08-121049   \n",
       "2397                                    mn-08-121051   \n",
       "1602  81st Street - Museum of Natural History - B, C   \n",
       "1604          86th Street - Central Park West - B, C   \n",
       "\n",
       "                                     Location   Latitude  Longitude  \\\n",
       "1651                        36 EAST 84 STREET  40.779454 -73.959681   \n",
       "2397                        40 EAST 83 STREET  40.778795 -73.960116   \n",
       "1602  81st Street - Museum of Natural History  40.781433 -73.972143   \n",
       "1604          86th Street - Central Park West  40.785868 -73.968916   \n",
       "\n",
       "                  X              Y  ... CounDist Postcode BoroCD CT2010  \\\n",
       "1651  995416.391697  223255.452161  ...      4.0    10028  108.0  142.0   \n",
       "2397  995296.090101  223015.240699  ...      4.0    10028  108.0  142.0   \n",
       "1602  991964.776881  223975.194160  ...      6.0       83  164.0  143.0   \n",
       "1604  992857.895830  225591.316256  ...      6.0       83  164.0  143.0   \n",
       "\n",
       "      BCTCB2010        BIN           BBL DOITT_ID  \\\n",
       "1651  1014200.0  1046787.0  1.014950e+09     3920   \n",
       "2397  1014200.0  1046768.0  1.014940e+09     4153   \n",
       "1602  1014300.0        0.0  0.000000e+00     1543   \n",
       "1604  1014300.0        0.0  0.000000e+00     1545   \n",
       "\n",
       "                                   Location (Lat, Long)  \\\n",
       "1651  {'longitude': '-73.959681', 'human_address': '...   \n",
       "2397  {'longitude': '-73.960116', 'human_address': '...   \n",
       "1602  {'longitude': '-73.972143', 'human_address': '...   \n",
       "1604  {'longitude': '-73.968916', 'human_address': '...   \n",
       "\n",
       "                              geometry  \n",
       "1651  POINT (-8233154.028 4951950.863)  \n",
       "2397  POINT (-8233202.452 4951854.358)  \n",
       "1602  POINT (-8234541.292 4952240.678)  \n",
       "1604  POINT (-8234182.064 4952890.194)  \n",
       "\n",
       "[4 rows x 30 columns]"
      ]
     },
     "execution_count": 8,
     "metadata": {},
     "output_type": "execute_result"
    }
   ],
   "source": [
    "gdf.iloc[rslt_index_kd_tree,]"
   ]
  },
  {
   "cell_type": "code",
   "execution_count": null,
   "metadata": {},
   "outputs": [],
   "source": []
  },
  {
   "cell_type": "markdown",
   "metadata": {},
   "source": [
    "#### Step 5.1 : Copy your distance calculation function from A1\n",
    "#### Step 5.2 : Loop over the WiFi coordinates array, and for each WiFi hotspot, calculate the distance between the WiFi hotspot and the central park. If it is within 0.5 mile, add it to a list. In the end, return all found hotspots."
   ]
  },
  {
   "cell_type": "code",
   "execution_count": 9,
   "metadata": {},
   "outputs": [],
   "source": [
    "def eu_dist(pt_1, pt_2):\n",
    "    dist = math.sqrt(((pt_1[0]-pt_2[0])**2)+((pt_1[1]-pt_2[1])**2))\n",
    "    return dist\n",
    "\n",
    "def list_query(coords, pt, dist):\n",
    "    rslt = []\n",
    "    for i in range(len(coords)):\n",
    "        if eu_dist(coords[i], pt) <= dist:\n",
    "            rslt.append(i)\n",
    "    return rslt"
   ]
  },
  {
   "cell_type": "markdown",
   "metadata": {},
   "source": [
    "#### Query Wifi hotspots using the function defined above, which will return the indices of each nearby Wifi hotspot."
   ]
  },
  {
   "cell_type": "code",
   "execution_count": 10,
   "metadata": {},
   "outputs": [],
   "source": [
    "rslt_index_list = list_query(coords, central_park, search_radius)"
   ]
  },
  {
   "cell_type": "markdown",
   "metadata": {},
   "source": [
    "#### Plug-in the indices in the GeoDataFrame to find detailed attributes of each nearby hotspot."
   ]
  },
  {
   "cell_type": "code",
   "execution_count": 11,
   "metadata": {},
   "outputs": [
    {
     "data": {
      "text/html": [
       "<div>\n",
       "<style scoped>\n",
       "    .dataframe tbody tr th:only-of-type {\n",
       "        vertical-align: middle;\n",
       "    }\n",
       "\n",
       "    .dataframe tbody tr th {\n",
       "        vertical-align: top;\n",
       "    }\n",
       "\n",
       "    .dataframe thead th {\n",
       "        text-align: right;\n",
       "    }\n",
       "</style>\n",
       "<table border=\"1\" class=\"dataframe\">\n",
       "  <thead>\n",
       "    <tr style=\"text-align: right;\">\n",
       "      <th></th>\n",
       "      <th>OBJECTID</th>\n",
       "      <th>Borough</th>\n",
       "      <th>Type</th>\n",
       "      <th>Provider</th>\n",
       "      <th>Name</th>\n",
       "      <th>Location</th>\n",
       "      <th>Latitude</th>\n",
       "      <th>Longitude</th>\n",
       "      <th>X</th>\n",
       "      <th>Y</th>\n",
       "      <th>...</th>\n",
       "      <th>CounDist</th>\n",
       "      <th>Postcode</th>\n",
       "      <th>BoroCD</th>\n",
       "      <th>CT2010</th>\n",
       "      <th>BCTCB2010</th>\n",
       "      <th>BIN</th>\n",
       "      <th>BBL</th>\n",
       "      <th>DOITT_ID</th>\n",
       "      <th>Location (Lat, Long)</th>\n",
       "      <th>geometry</th>\n",
       "    </tr>\n",
       "  </thead>\n",
       "  <tbody>\n",
       "    <tr>\n",
       "      <th>1602</th>\n",
       "      <td>2140</td>\n",
       "      <td>MN</td>\n",
       "      <td>Free</td>\n",
       "      <td>Transit Wireless</td>\n",
       "      <td>81st Street - Museum of Natural History - B, C</td>\n",
       "      <td>81st Street - Museum of Natural History</td>\n",
       "      <td>40.781433</td>\n",
       "      <td>-73.972143</td>\n",
       "      <td>991964.776881</td>\n",
       "      <td>223975.194160</td>\n",
       "      <td>...</td>\n",
       "      <td>6.0</td>\n",
       "      <td>83</td>\n",
       "      <td>164.0</td>\n",
       "      <td>143.0</td>\n",
       "      <td>1014300.0</td>\n",
       "      <td>0.0</td>\n",
       "      <td>0.000000e+00</td>\n",
       "      <td>1543</td>\n",
       "      <td>{'longitude': '-73.972143', 'human_address': '...</td>\n",
       "      <td>POINT (-8234541.292 4952240.678)</td>\n",
       "    </tr>\n",
       "    <tr>\n",
       "      <th>1604</th>\n",
       "      <td>2142</td>\n",
       "      <td>MN</td>\n",
       "      <td>Free</td>\n",
       "      <td>Transit Wireless</td>\n",
       "      <td>86th Street - Central Park West - B, C</td>\n",
       "      <td>86th Street - Central Park West</td>\n",
       "      <td>40.785868</td>\n",
       "      <td>-73.968916</td>\n",
       "      <td>992857.895830</td>\n",
       "      <td>225591.316256</td>\n",
       "      <td>...</td>\n",
       "      <td>6.0</td>\n",
       "      <td>83</td>\n",
       "      <td>164.0</td>\n",
       "      <td>143.0</td>\n",
       "      <td>1014300.0</td>\n",
       "      <td>0.0</td>\n",
       "      <td>0.000000e+00</td>\n",
       "      <td>1545</td>\n",
       "      <td>{'longitude': '-73.968916', 'human_address': '...</td>\n",
       "      <td>POINT (-8234182.064 4952890.194)</td>\n",
       "    </tr>\n",
       "    <tr>\n",
       "      <th>1651</th>\n",
       "      <td>7642</td>\n",
       "      <td>MN</td>\n",
       "      <td>Free</td>\n",
       "      <td>LinkNYC - Citybridge</td>\n",
       "      <td>mn-08-121049</td>\n",
       "      <td>36 EAST 84 STREET</td>\n",
       "      <td>40.779454</td>\n",
       "      <td>-73.959681</td>\n",
       "      <td>995416.391697</td>\n",
       "      <td>223255.452161</td>\n",
       "      <td>...</td>\n",
       "      <td>4.0</td>\n",
       "      <td>10028</td>\n",
       "      <td>108.0</td>\n",
       "      <td>142.0</td>\n",
       "      <td>1014200.0</td>\n",
       "      <td>1046787.0</td>\n",
       "      <td>1.014950e+09</td>\n",
       "      <td>3920</td>\n",
       "      <td>{'longitude': '-73.959681', 'human_address': '...</td>\n",
       "      <td>POINT (-8233154.028 4951950.863)</td>\n",
       "    </tr>\n",
       "    <tr>\n",
       "      <th>2397</th>\n",
       "      <td>7875</td>\n",
       "      <td>MN</td>\n",
       "      <td>Free</td>\n",
       "      <td>LinkNYC - Citybridge</td>\n",
       "      <td>mn-08-121051</td>\n",
       "      <td>40 EAST 83 STREET</td>\n",
       "      <td>40.778795</td>\n",
       "      <td>-73.960116</td>\n",
       "      <td>995296.090101</td>\n",
       "      <td>223015.240699</td>\n",
       "      <td>...</td>\n",
       "      <td>4.0</td>\n",
       "      <td>10028</td>\n",
       "      <td>108.0</td>\n",
       "      <td>142.0</td>\n",
       "      <td>1014200.0</td>\n",
       "      <td>1046768.0</td>\n",
       "      <td>1.014940e+09</td>\n",
       "      <td>4153</td>\n",
       "      <td>{'longitude': '-73.960116', 'human_address': '...</td>\n",
       "      <td>POINT (-8233202.452 4951854.358)</td>\n",
       "    </tr>\n",
       "  </tbody>\n",
       "</table>\n",
       "<p>4 rows × 30 columns</p>\n",
       "</div>"
      ],
      "text/plain": [
       "      OBJECTID Borough  Type              Provider  \\\n",
       "1602      2140      MN  Free      Transit Wireless   \n",
       "1604      2142      MN  Free      Transit Wireless   \n",
       "1651      7642      MN  Free  LinkNYC - Citybridge   \n",
       "2397      7875      MN  Free  LinkNYC - Citybridge   \n",
       "\n",
       "                                                Name  \\\n",
       "1602  81st Street - Museum of Natural History - B, C   \n",
       "1604          86th Street - Central Park West - B, C   \n",
       "1651                                    mn-08-121049   \n",
       "2397                                    mn-08-121051   \n",
       "\n",
       "                                     Location   Latitude  Longitude  \\\n",
       "1602  81st Street - Museum of Natural History  40.781433 -73.972143   \n",
       "1604          86th Street - Central Park West  40.785868 -73.968916   \n",
       "1651                        36 EAST 84 STREET  40.779454 -73.959681   \n",
       "2397                        40 EAST 83 STREET  40.778795 -73.960116   \n",
       "\n",
       "                  X              Y  ... CounDist Postcode BoroCD CT2010  \\\n",
       "1602  991964.776881  223975.194160  ...      6.0       83  164.0  143.0   \n",
       "1604  992857.895830  225591.316256  ...      6.0       83  164.0  143.0   \n",
       "1651  995416.391697  223255.452161  ...      4.0    10028  108.0  142.0   \n",
       "2397  995296.090101  223015.240699  ...      4.0    10028  108.0  142.0   \n",
       "\n",
       "      BCTCB2010        BIN           BBL DOITT_ID  \\\n",
       "1602  1014300.0        0.0  0.000000e+00     1543   \n",
       "1604  1014300.0        0.0  0.000000e+00     1545   \n",
       "1651  1014200.0  1046787.0  1.014950e+09     3920   \n",
       "2397  1014200.0  1046768.0  1.014940e+09     4153   \n",
       "\n",
       "                                   Location (Lat, Long)  \\\n",
       "1602  {'longitude': '-73.972143', 'human_address': '...   \n",
       "1604  {'longitude': '-73.968916', 'human_address': '...   \n",
       "1651  {'longitude': '-73.959681', 'human_address': '...   \n",
       "2397  {'longitude': '-73.960116', 'human_address': '...   \n",
       "\n",
       "                              geometry  \n",
       "1602  POINT (-8234541.292 4952240.678)  \n",
       "1604  POINT (-8234182.064 4952890.194)  \n",
       "1651  POINT (-8233154.028 4951950.863)  \n",
       "2397  POINT (-8233202.452 4951854.358)  \n",
       "\n",
       "[4 rows x 30 columns]"
      ]
     },
     "execution_count": 11,
     "metadata": {},
     "output_type": "execute_result"
    }
   ],
   "source": [
    "gdf.iloc[rslt_index_list,]"
   ]
  },
  {
   "cell_type": "markdown",
   "metadata": {},
   "source": [
    "#### Step 6.1 We create a quadtree using the code provided. First we need to define a bounding box, and the center of the box.\n",
    "#### Step 6.2 Use the box and center to create a `Rect()` object then plug-in to the `Quadtree()`.\n",
    "#### Step 6.3 Loop over the WiFi locations and for each one, create a `Point()` object then insert to the quadtree with `QuadTree.insert()`\n",
    "#### Step 6.4 Make a query using `QuadTree.query_radius()` with central park location, searching radius, and an empty list as arguments. it will return the records that are nearby central park within 0.5 mile."
   ]
  },
  {
   "cell_type": "code",
   "execution_count": 12,
   "metadata": {},
   "outputs": [
    {
     "data": {
      "text/plain": [
       "[(-8233154.02815295, 4951950.863011102): 'mn-08-121049',\n",
       " (-8233202.4521314455, 4951854.357530273): 'mn-08-121051',\n",
       " (-8234541.291647216, 4952240.678137327): '81st Street - Museum of Natural History - B, C',\n",
       " (-8234182.0636504255, 4952890.194370422): '86th Street - Central Park West - B, C']"
      ]
     },
     "execution_count": 12,
     "metadata": {},
     "output_type": "execute_result"
    }
   ],
   "source": [
    "from quadtree import Point, Rect, QuadTree\n",
    "\n",
    "box = np.max(coords,axis=0) - np.min(coords,axis=0)\n",
    "center = np.mean(coords,axis=0)\n",
    "\n",
    "qtree = QuadTree(Rect(center[0], center[1], box[0], box[1]))\n",
    "\n",
    "for i in range(len(coords)):\n",
    "    point = Point(coords[i][0],coords[i][1],label=df[\"Name\"][i])\n",
    "    qtree.insert(point)\n",
    "\n",
    "qtree.query_radius(central_park, search_radius, [])"
   ]
  },
  {
   "cell_type": "code",
   "execution_count": null,
   "metadata": {},
   "outputs": [],
   "source": []
  },
  {
   "cell_type": "markdown",
   "metadata": {},
   "source": [
    "#### Step 7: The final step is to compare the speed for each data structure's querying method. We use `%timeit ` which is a magic function in front of each function call to benchmark the runtime.\n",
    "\n",
    "#### We can see that `list_query()` takes ~5 ms, `qtree.query_radius()` takes ~90 µs, and `tree.query_ball_point()` takes ~1.3 ms. Obviously we see quadtree is faster than kd-tree than list in this example."
   ]
  },
  {
   "cell_type": "code",
   "execution_count": 13,
   "metadata": {},
   "outputs": [
    {
     "name": "stdout",
     "output_type": "stream",
     "text": [
      "5.01 ms ± 228 µs per loop (mean ± std. dev. of 7 runs, 100 loops each)\n"
     ]
    }
   ],
   "source": [
    "%timeit list_query(coords, central_park, search_radius)"
   ]
  },
  {
   "cell_type": "code",
   "execution_count": 14,
   "metadata": {},
   "outputs": [
    {
     "name": "stdout",
     "output_type": "stream",
     "text": [
      "91.1 µs ± 4.82 µs per loop (mean ± std. dev. of 7 runs, 10000 loops each)\n"
     ]
    }
   ],
   "source": [
    "%timeit qtree.query_radius(central_park, search_radius, [])"
   ]
  },
  {
   "cell_type": "code",
   "execution_count": 15,
   "metadata": {},
   "outputs": [
    {
     "name": "stdout",
     "output_type": "stream",
     "text": [
      "1.27 ms ± 72.3 µs per loop (mean ± std. dev. of 7 runs, 1000 loops each)\n"
     ]
    }
   ],
   "source": [
    "%timeit tree.query_ball_point(central_park, search_radius)"
   ]
  },
  {
   "cell_type": "code",
   "execution_count": null,
   "metadata": {},
   "outputs": [],
   "source": []
  }
 ],
 "metadata": {
  "kernelspec": {
   "display_name": "Python 3",
   "language": "python",
   "name": "python3"
  },
  "language_info": {
   "codemirror_mode": {
    "name": "ipython",
    "version": 3
   },
   "file_extension": ".py",
   "mimetype": "text/x-python",
   "name": "python",
   "nbconvert_exporter": "python",
   "pygments_lexer": "ipython3",
   "version": "3.7.6"
  }
 },
 "nbformat": 4,
 "nbformat_minor": 4
}
