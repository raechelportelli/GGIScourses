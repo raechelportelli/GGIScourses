{
 "cells": [
  {
   "cell_type": "markdown",
   "metadata": {},
   "source": [
    "### Spatial Interpolation Competition!\n",
    "\n",
    "In this assignment, you will be using the ordinary kriging method to interpolate the annual mean temperature data for two states: Arizona and Illinois.\n",
    "***\n",
    "Description of the data\n",
    "\n",
    "The temperature data were retrived from https://prism.oregonstate.edu/normals/. The original dataset covers the entire US with a ~4km by 4km grid. I clipped the data for Arizona and Illinois, and randomly sampled 200 pixels for each state, from this gridded climate product.\n",
    "***\n",
    "\n",
    "Competition!\n",
    "\n",
    "Because I have the \"true\" temperature data, I am able to assess your kriging fittings by compare your interpolated temperature with the \"true\" temperature. \n",
    "\n",
    "The criterion I will be using is the root-mean squared error (RMSE): sqrt(mean(predict - true)**2)\n",
    "\n",
    "*** \n",
    "Evaluation\n",
    "\n",
    "This assignment worths 10%, the basic task is to use Kriging to interpolate the temperature for the two states. If you finish the basic task, you earn the full-credit. Additionally, we will have two winners (one for AZ, one for IL) who have the best interpolation accuracy. The winner will get 1% **extra** credit.\n",
    "\n",
    "***\n",
    "Several details:\n",
    "\n",
    "- Please use the lab jupyter notebook as a template.\n",
    "- Display the two interpolation maps (one for AZ and one for IL) in jupyter notebook as the final products, don't clear your outputs.\n",
    "- There are many parameters in `OrdinaryKriging()` that you can play with to better fit the variogram. For example, you can change the values in `nlags`, or `variogram_model`. The goal is to make the curve fits the variogram as better as possible.\n",
    "- Use the following code for generating the x and y of a 0.04 degree resolution grid (this is slighly differernt from the lab). \n",
    "\n",
    "    `grid_x = np.arange(xmin, xmax, 0.04)\n",
    "   grid_y = np.arange(ymin, ymax, 0.04)`\n",
    "   \n",
    "- Export your interpolated data using\n",
    "    `interpolated_krig.to_csv(\"il_your_name.csv\"`and `interpolated_krig.to_csv(\"az_your_name.csv\")`. And upload both to Learn when you submit your assignment. If you don't do this, you will give up your chance to win the extra credits.\n"
   ]
  },
  {
   "cell_type": "code",
   "execution_count": 1,
   "metadata": {},
   "outputs": [],
   "source": [
    "import pandas as pd\n",
    "import matplotlib.pyplot as plt\n",
    "import geopandas as gpd\n",
    "import numpy as np"
   ]
  },
  {
   "cell_type": "code",
   "execution_count": null,
   "metadata": {},
   "outputs": [],
   "source": [
    "#run these only once to unzip your uploaded zip files.\n",
    "#After that you could comment these out.\n",
    "!unzip tl_2015_04_cousub.zip\n",
    "!unzip IL_BNDY_County.zip\n",
    "!unzip AZ_temp_samples.zip\n",
    "!unzip IL_temp_samples.zip"
   ]
  },
  {
   "cell_type": "code",
   "execution_count": null,
   "metadata": {},
   "outputs": [],
   "source": [
    "#Read county shapefiles\n",
    "az = gpd.read_file(\"tl_2015_04_cousub/tl_2015_04_cousub.shp\")\n",
    "il = gpd.read_file(\"IL_BNDY_County/IL_BNDY_County_Py.shp\")"
   ]
  },
  {
   "cell_type": "code",
   "execution_count": null,
   "metadata": {},
   "outputs": [],
   "source": [
    "#Read temperature data\n",
    "az_temp = gpd.read_file(\"AZ_temp_samples/AZ_temp_samples.shp\")\n",
    "il_temp = gpd.read_file(\"IL_temp_samples/IL_temp_samples.shp\")"
   ]
  },
  {
   "cell_type": "code",
   "execution_count": 51,
   "metadata": {},
   "outputs": [],
   "source": [
    "#You will go from here"
   ]
  },
  {
   "cell_type": "code",
   "execution_count": null,
   "metadata": {},
   "outputs": [],
   "source": []
  },
  {
   "cell_type": "code",
   "execution_count": null,
   "metadata": {},
   "outputs": [],
   "source": []
  }
 ],
 "metadata": {
  "kernelspec": {
   "display_name": "Python 3",
   "language": "python",
   "name": "python3"
  },
  "language_info": {
   "codemirror_mode": {
    "name": "ipython",
    "version": 3
   },
   "file_extension": ".py",
   "mimetype": "text/x-python",
   "name": "python",
   "nbconvert_exporter": "python",
   "pygments_lexer": "ipython3",
   "version": "3.7.6"
  }
 },
 "nbformat": 4,
 "nbformat_minor": 4
}
