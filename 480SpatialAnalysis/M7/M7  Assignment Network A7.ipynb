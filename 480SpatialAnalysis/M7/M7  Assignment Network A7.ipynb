{
 "cells": [
  {
   "cell_type": "markdown",
   "metadata": {},
   "source": [
    "### Assignment for Module 6: Network Analysis\n",
    "\n",
    "This assignment will give you a chance to practice some network analysis techniques. You will be asked to calculate the shortest paths between locations using the streets in **Urbana-Champaign**.\n",
    "\n",
    "Below are the specific tasks to do. You will need to find the latitude and longitude for the places mentioned below:\n",
    "1. Calculate and map the shortest route between **Champaign County Court House** and **Market Place Shopping center**. Also report the shortest distance. Compare the number with Google Maps's result. (2pts)\n",
    "2. Repeat the above using travel time as the weights and report the least travel time between Court Hose and the mall. (2pts)\n",
    "3. Repeat 1 and 2 for two different locations of interest: A. the location of your choice and B. Willard Airport. (4pts)\n",
    "4. Calculate and Map the service area from U of I's Main Library. Using 5,10,15 minutues as the intervals. (2pts)\n",
    "\n"
   ]
  },
  {
   "cell_type": "markdown",
   "metadata": {},
   "source": [
    "Importing the libraries"
   ]
  },
  {
   "cell_type": "code",
   "execution_count": 2,
   "metadata": {},
   "outputs": [],
   "source": [
    "#!pip install osmnx --upgrade #Comment this out once updated\n",
    "import osmnx as ox\n",
    "import networkx as nx\n",
    "import pandas as pd\n",
    "import geopandas as gpd\n",
    "import matplotlib.pyplot as plt"
   ]
  },
  {
   "cell_type": "code",
   "execution_count": null,
   "metadata": {},
   "outputs": [],
   "source": []
  },
  {
   "cell_type": "code",
   "execution_count": null,
   "metadata": {},
   "outputs": [],
   "source": []
  },
  {
   "cell_type": "code",
   "execution_count": null,
   "metadata": {},
   "outputs": [],
   "source": []
  }
 ],
 "metadata": {
  "kernelspec": {
   "display_name": "Python 3",
   "language": "python",
   "name": "python3"
  },
  "language_info": {
   "codemirror_mode": {
    "name": "ipython",
    "version": 3
   },
   "file_extension": ".py",
   "mimetype": "text/x-python",
   "name": "python",
   "nbconvert_exporter": "python",
   "pygments_lexer": "ipython3",
   "version": "3.7.6"
  }
 },
 "nbformat": 4,
 "nbformat_minor": 4
}
